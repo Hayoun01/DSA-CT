{
  "nbformat": 4,
  "nbformat_minor": 0,
  "metadata": {
    "colab": {
      "provenance": [],
      "authorship_tag": "ABX9TyMCb6A1zgqCZe9oZimSCTG8",
      "include_colab_link": true
    },
    "kernelspec": {
      "name": "python3",
      "display_name": "Python 3"
    },
    "language_info": {
      "name": "python"
    }
  },
  "cells": [
    {
      "cell_type": "markdown",
      "metadata": {
        "id": "view-in-github",
        "colab_type": "text"
      },
      "source": [
        "<a href=\"https://colab.research.google.com/github/Khoubaib-Boughalmi/DSA-CT/blob/main/session1.ipynb\" target=\"_parent\"><img src=\"https://colab.research.google.com/assets/colab-badge.svg\" alt=\"Open In Colab\"/></a>"
      ]
    },
    {
      "cell_type": "markdown",
      "source": [
        "# **Anagram**\n",
        "\n",
        "Write a function, anagrams, that takes in two strings as arguments. The function should return a boolean indicating whether or not the strings are anagrams. Anagrams are strings that contain the same characters, but in any order.\n",
        "\n",
        "\n",
        "\n",
        "```\n",
        "anagrams('restful', 'fluster') # -> True\n",
        "```\n",
        "\n",
        "\n",
        "```\n",
        "anagrams('cats', 'tocs') # -> False\n",
        "```\n",
        "\n",
        "\n",
        "```\n",
        "anagrams('monkeyswrite', 'newyorktimes') # -> True\n",
        "```\n",
        "\n",
        "\n",
        "```\n",
        "anagrams('paper', 'reapa') # -> False\n",
        "```\n",
        "\n",
        "\n",
        "```\n",
        "anagrams('elbow', 'below') # -> True\n",
        "```\n",
        "\n",
        "\n",
        "```\n",
        "anagrams('tax', 'taxi') # -> False\n",
        "```\n",
        "\n",
        "\n",
        "```\n",
        "anagrams('taxi', 'tax') # -> False\n",
        "```\n",
        "\n",
        "\n",
        "```\n",
        "anagrams('pp', 'oo') # -> false\n",
        "```\n"
      ],
      "metadata": {
        "id": "X9pm2-W3EmkF"
      }
    },
    {
      "cell_type": "code",
      "source": [
        "# @title Anagram Solution\n",
        "\n",
        "# Solution 1\n",
        "def anagrams(s1, s2):\n",
        "  return char_count(s1) == char_count(s2)\n",
        "\n",
        "def char_count(s):\n",
        "  count = {}\n",
        "\n",
        "  for char in s:\n",
        "    if char not in count:\n",
        "      count[char] = 0\n",
        "    count[char] += 1\n",
        "\n",
        "  return count\n",
        "\n",
        "\n",
        "# Solution 2\n",
        "# from collections import Counter\n",
        "\n",
        "# def anagrams(s1, s2):\n",
        "#   return Counter(s1) == Counter(s2)\n"
      ],
      "metadata": {
        "cellView": "form",
        "id": "jUXOUAY4GHBT"
      },
      "execution_count": null,
      "outputs": []
    },
    {
      "cell_type": "markdown",
      "source": [
        "# **Most frequent char**\n",
        "\n",
        "Write a function, most_frequent_char, that takes in a string as an argument. The function should return the most frequent character of the string. If there are ties, return the character that appears earlier in the string.\n",
        "\n",
        "You can assume that the input string is non-empty.\n",
        "\n",
        "```\n",
        "most_frequent_char('bookeeper') # -> 'e'\n",
        "```\n",
        "\n",
        "```\n",
        "most_frequent_char('david') # -> 'd'\n",
        "```\n",
        "\n",
        "```\n",
        "most_frequent_char('abby') # -> 'b'\n",
        "```\n",
        "\n",
        "```\n",
        "most_frequent_char('potato') # -> 'o'\n",
        "```"
      ],
      "metadata": {
        "id": "c6TzuFNwJXeC"
      }
    },
    {
      "cell_type": "code",
      "source": [
        "# @title Most frequent char Solution\n",
        "\n",
        "# Solution 1\n",
        "def most_frequent_char(s):\n",
        "  count = {}\n",
        "  for char in s:\n",
        "    if char not in count:\n",
        "      count[char] = 0\n",
        "    count[char] += 1\n",
        "\n",
        "  best = None\n",
        "  for char in s:\n",
        "    if best is None or count[char] > count[best]:\n",
        "      best = char\n",
        "  return best\n",
        "\n",
        "# Solution 2\n",
        "# from collections import Counter\n",
        "\n",
        "# def most_frequent_char(s):\n",
        "#   count = Counter(s)\n",
        "#   best = None\n",
        "#   for char in s:\n",
        "#     if best is None or count[char] > count[best]:\n",
        "#       best = char\n",
        "#   return best\n",
        "\n"
      ],
      "metadata": {
        "cellView": "form",
        "id": "NT_x4wDKKA9V"
      },
      "execution_count": null,
      "outputs": []
    },
    {
      "cell_type": "markdown",
      "source": [
        "# **Pair sum**\n",
        "\n",
        "Write a function, pair_sum, that takes in a list and a target sum as arguments. The function should return a tuple containing a pair of indices whose elements sum to the given target. The indices returned must be unique.\n",
        "\n",
        "Be sure to return the indices, not the elements themselves.\n",
        "\n",
        "There is guaranteed to be one such pair that sums to the target\n",
        "\n",
        "```\n",
        "pair_sum([3, 2, 5, 4, 1], 8) # -> (0, 2)\n",
        "```\n",
        "\n",
        "\n",
        "```\n",
        "pair_sum([4, 7, 9, 2, 5, 1], 5) # -> (0, 5)\n",
        "```\n",
        "\n",
        "\n",
        "```\n",
        "pair_sum([4, 7, 9, 2, 5, 1], 3) # -> (3, 5)\n",
        "```\n",
        "\n",
        "\n",
        "```\n",
        "pair_sum([1, 6, 7, 2], 13) # -> (1, 2)\n",
        "```\n",
        "\n",
        "\n",
        "```\n",
        "pair_sum([9, 9], 18) # -> (0, 1)\n",
        "```\n",
        "\n",
        "```\n",
        "numbers = [ i for i in range(1, 6001) ]\n",
        "pair_sum(numbers, 11999) # -> (5998, 5999)\n",
        "```"
      ],
      "metadata": {
        "id": "trg-5U9qLF9Z"
      }
    },
    {
      "cell_type": "code",
      "source": [
        "# @title Default title text\n",
        "def pair_sum(numbers, target_sum):\n",
        "  dict = {}\n",
        "  for i in range(len(numbers)):\n",
        "    compliment = target_sum - numbers[i]\n",
        "    compliment_index = dict.get(compliment)\n",
        "    if compliment_index:\n",
        "      return (compliment_index, i)\n",
        "    dict[numbers[i]] = i\n",
        "\n",
        "# def pair_sum(numbers, target_sum):\n",
        "#   previous_numbers = {}\n",
        "\n",
        "#   for index, num in enumerate(numbers):\n",
        "#     complement = target_sum - num\n",
        "\n",
        "#     if complement in previous_numbers:\n",
        "#       return (index, previous_numbers[complement])\n",
        "\n",
        "#     previous_numbers[num] = index\n",
        "\n"
      ],
      "metadata": {
        "cellView": "form",
        "id": "V3i6rVxgLk_1"
      },
      "execution_count": null,
      "outputs": []
    },
    {
      "cell_type": "code",
      "source": [
        "numbers = [ i for i in range(1, 6001) ]\n"
      ],
      "metadata": {
        "id": "A8GD2E8mLqQY"
      },
      "execution_count": null,
      "outputs": []
    },
    {
      "cell_type": "code",
      "source": [
        "print(pair_sum(numbers, 11999))"
      ],
      "metadata": {
        "colab": {
          "base_uri": "https://localhost:8080/"
        },
        "id": "jC1MyJFqOQYt",
        "outputId": "a7a378a2-cdb9-445f-d850-c05c2392876a"
      },
      "execution_count": null,
      "outputs": [
        {
          "output_type": "stream",
          "name": "stdout",
          "text": [
            "(5998, 5999)\n"
          ]
        }
      ]
    }
  ]
}