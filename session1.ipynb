{
  "nbformat": 4,
  "nbformat_minor": 0,
  "metadata": {
    "colab": {
      "provenance": [],
      "authorship_tag": "ABX9TyMaF6q+gOFRud8HxmLYniv1",
      "include_colab_link": true
    },
    "kernelspec": {
      "name": "python3",
      "display_name": "Python 3"
    },
    "language_info": {
      "name": "python"
    }
  },
  "cells": [
    {
      "cell_type": "markdown",
      "metadata": {
        "id": "view-in-github",
        "colab_type": "text"
      },
      "source": [
        "<a href=\"https://colab.research.google.com/github/Khoubaib-Boughalmi/DSA-CT/blob/main/session1.ipynb\" target=\"_parent\"><img src=\"https://colab.research.google.com/assets/colab-badge.svg\" alt=\"Open In Colab\"/></a>"
      ]
    },
    {
      "cell_type": "markdown",
      "source": [
        "**Anagram**\n",
        "\n",
        "Write a function, anagrams, that takes in two strings as arguments. The function should return a boolean indicating whether or not the strings are anagrams. Anagrams are strings that contain the same characters, but in any order.\n",
        "\n",
        "\n",
        "\n",
        "```\n",
        "anagrams('restful', 'fluster') # -> True\n",
        "```\n",
        "\n",
        "\n",
        "```\n",
        "anagrams('cats', 'tocs') # -> False\n",
        "```\n",
        "\n",
        "\n",
        "```\n",
        "anagrams('monkeyswrite', 'newyorktimes') # -> True\n",
        "```\n",
        "\n",
        "\n",
        "```\n",
        "anagrams('paper', 'reapa') # -> False\n",
        "```\n",
        "\n",
        "\n",
        "```\n",
        "anagrams('elbow', 'below') # -> True\n",
        "```\n",
        "\n",
        "\n",
        "```\n",
        "anagrams('tax', 'taxi') # -> False\n",
        "```\n",
        "\n",
        "\n",
        "```\n",
        "anagrams('taxi', 'tax') # -> False\n",
        "```\n",
        "\n",
        "\n",
        "```\n",
        "anagrams('pp', 'oo') # -> false\n",
        "```\n"
      ],
      "metadata": {
        "id": "X9pm2-W3EmkF"
      }
    },
    {
      "cell_type": "code",
      "source": [
        "# @title Anagram Solution\n",
        "\n",
        "def anagrams(s1, s2):\n",
        "  return char_count(s1) == char_count(s2)\n",
        "\n",
        "def char_count(s):\n",
        "  count = {}\n",
        "\n",
        "  for char in s:\n",
        "    if char not in count:\n",
        "      count[char] = 0\n",
        "    count[char] += 1\n",
        "\n",
        "  return count\n",
        "\n"
      ],
      "metadata": {
        "cellView": "form",
        "id": "jUXOUAY4GHBT"
      },
      "execution_count": 2,
      "outputs": []
    },
    {
      "cell_type": "code",
      "source": [
        "anagrams('elbow', 'below') # -> True"
      ],
      "metadata": {
        "colab": {
          "base_uri": "https://localhost:8080/"
        },
        "id": "VGfRjc7pGtRe",
        "outputId": "7124d9a6-5e7a-4827-d58c-e24c6c50daf9"
      },
      "execution_count": 7,
      "outputs": [
        {
          "output_type": "execute_result",
          "data": {
            "text/plain": [
              "True"
            ]
          },
          "metadata": {},
          "execution_count": 7
        }
      ]
    }
  ]
}